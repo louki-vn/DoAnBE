{
 "cells": [
  {
   "cell_type": "code",
   "execution_count": null,
   "metadata": {},
   "outputs": [],
   "source": [
    "from xml.etree import ElementTree as ET\n",
    "import win32con\n",
    "\n",
    "evt_dict = {win32con.EVENTLOG_AUDIT_FAILURE: 'EVENTLOG_AUDIT_FAILURE',\n",
    "            win32con.EVENTLOG_AUDIT_SUCCESS: 'EVENTLOG_AUDIT_SUCCESS',\n",
    "            win32con.EVENTLOG_INFORMATION_TYPE: 'EVENTLOG_INFORMATION_TYPE',\n",
    "            win32con.EVENTLOG_WARNING_TYPE: 'EVENTLOG_WARNING_TYPE',\n",
    "            win32con.EVENTLOG_ERROR_TYPE: 'EVENTLOG_ERROR_TYPE'}\n",
    "\n",
    "\n",
    "def parse_XML_log(event):\n",
    "    tree = ET.ElementTree(ET.fromstring(event))\n",
    "    root = tree.getroot()\n",
    "    ns = \"{http://schemas.microsoft.com/win/2004/08/events/event}\"\n",
    "    data = {}\n",
    "    for eventID in root.findall(\".//\"):\n",
    "        if eventID.tag == f\"{ns}System\":\n",
    "            for e_id in eventID.iter():\n",
    "                if e_id.tag == f\"{ns}System\":\n",
    "                    pass\n",
    "                elif e_id.tag == f\"{ns}Provider\":\n",
    "                    data[\"Provider\"] = e_id.attrib.get('Name')\n",
    "                elif e_id.tag == f\"{ns}TimeCreated\":\n",
    "                    data[\"TimeCreated\"] = e_id.attrib.get('SystemTime')\n",
    "                elif e_id.tag == f\"{ns}Correlation\":\n",
    "                    data[\"ActivityID\"] = e_id.attrib.get('ActivityID')\n",
    "                elif e_id.tag == f\"{ns}Execution\":\n",
    "                    data[\"ProcessID\"] = e_id.attrib.get('ProcessID')\n",
    "                    data[\"ThreadID\"] = e_id.attrib.get('ThreadID')\n",
    "                elif e_id.tag == f\"{ns}EventType\":\n",
    "                    if not e_id.text in evt_dict.keys():\n",
    "                        data['EventType'] = \"unknown\"\n",
    "                    else:\n",
    "                        data['EventType'] = str(evt_dict[e_id.text])\n",
    "                else:\n",
    "                    att = e_id.tag.replace(f\"{ns}\", \"\")\n",
    "                    data[att] = e_id.text\n",
    "\n",
    "        if eventID.tag == f\"{ns}EventData\":\n",
    "            for attr in eventID.iter():\n",
    "                if attr.tag == f'{ns}Data':\n",
    "                    if attr.get('Name') is None:\n",
    "                        data[\"Data\"] = attr.text\n",
    "                    else:\n",
    "                        data[attr.get('Name')] = attr.text\n",
    "                elif attr.tag == f'{ns}Binary':\n",
    "                    data[\"Binary\"] = attr.text\n",
    "\n",
    "    return data"
   ]
  },
  {
   "cell_type": "code",
   "execution_count": null,
   "metadata": {},
   "outputs": [],
   "source": [
    "from json import loads\n",
    "from kafka import KafkaConsumer\n",
    "from pymongo import MongoClient\n",
    "\n",
    "\n",
    "# generating the Kafka Consumer\n",
    "my_consumer = KafkaConsumer(\n",
    "    'users',\n",
    "    bootstrap_servers=['192.168.0.2:9092'],\n",
    "    auto_offset_reset='earliest',\n",
    "    enable_auto_commit=True,\n",
    "    group_id='my-group',\n",
    "    value_deserializer=lambda x: loads(x.decode('utf-8'))\n",
    ")\n",
    "\n",
    "\n",
    "try:\n",
    "   my_client = MongoClient('127.0.0.1',27017)\n",
    "   my_collection = my_client.my_application.users\n",
    "   print(\"Connected successfully!\")\n",
    "except:  \n",
    "   print(\"Could not connect to MongoDB\")\n",
    "\n",
    "\n",
    "for message in my_consumer:\n",
    "   message = message.value\n",
    "   print(type(message))\n",
    "   print(message)\n",
    "   # log = parse_XML_log(message)\n",
    "   try:\n",
    "      my_collection.insert_many(message)\n",
    "      print(\"Data inserted successfull!\")\n",
    "   except:\n",
    "      print(\"Could not insert into MongoDB!\")"
   ]
  },
  {
   "cell_type": "code",
   "execution_count": null,
   "metadata": {},
   "outputs": [],
   "source": [
    "from configparser import ConfigParser\n",
    "from kafka import KafkaProducer\n",
    "\n",
    "\n",
    "def read_config():\n",
    "    data = {}\n",
    "    config = ConfigParser()\n",
    "    config.read('../kafka_config.ini')  # reading config from file\n",
    "    data['topic_name'] = config.get('kafka', 'topic_name')\n",
    "    data['bootstrap_servers'] = config.get('kafka', 'bootstrap_servers')\n",
    "    \n",
    "    return data\n",
    "\n",
    "\n",
    "# producer = KafkaProducer(read_config())\n",
    "kafka_config = read_config()\n",
    "print(kafka_config['topic_name'])"
   ]
  },
  {
   "cell_type": "code",
   "execution_count": 16,
   "metadata": {},
   "outputs": [
    {
     "name": "stdout",
     "output_type": "stream",
     "text": [
      "2023-06-02 08:49:52\n"
     ]
    }
   ],
   "source": [
    "import dateutil.parser\n",
    "\n",
    "datetime_str = '2023-06-02T08:49:52.114666Z'\n",
    "\n",
    "date1= dateutil.parser.isoparse(datetime_str)\n",
    "print(date1.strftime('%Y-%m-%d %H:%M:%S'))"
   ]
  }
 ],
 "metadata": {
  "kernelspec": {
   "display_name": "Python 3",
   "language": "python",
   "name": "python3"
  },
  "language_info": {
   "codemirror_mode": {
    "name": "ipython",
    "version": 3
   },
   "file_extension": ".py",
   "mimetype": "text/x-python",
   "name": "python",
   "nbconvert_exporter": "python",
   "pygments_lexer": "ipython3",
   "version": "3.10.10"
  },
  "orig_nbformat": 4
 },
 "nbformat": 4,
 "nbformat_minor": 2
}
