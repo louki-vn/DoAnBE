{
 "cells": [
  {
   "cell_type": "code",
   "execution_count": 6,
   "metadata": {},
   "outputs": [
    {
     "ename": "NoBrokersAvailable",
     "evalue": "NoBrokersAvailable",
     "output_type": "error",
     "traceback": [
      "\u001b[1;31m---------------------------------------------------------------------------\u001b[0m",
      "\u001b[1;31mNoBrokersAvailable\u001b[0m                        Traceback (most recent call last)",
      "Cell \u001b[1;32mIn[6], line 22\u001b[0m\n\u001b[0;32m     20\u001b[0m kafka_config \u001b[39m=\u001b[39m read_config()\n\u001b[0;32m     21\u001b[0m \u001b[39m# generating the Kafka Consumer\u001b[39;00m\n\u001b[1;32m---> 22\u001b[0m my_consumer \u001b[39m=\u001b[39m KafkaConsumer(\n\u001b[0;32m     23\u001b[0m    kafka_config[\u001b[39m'\u001b[39;49m\u001b[39mtopic_name\u001b[39;49m\u001b[39m'\u001b[39;49m],\n\u001b[0;32m     24\u001b[0m     bootstrap_servers\u001b[39m=\u001b[39;49mkafka_config[\u001b[39m'\u001b[39;49m\u001b[39mbootstrap_servers\u001b[39;49m\u001b[39m'\u001b[39;49m],\n\u001b[0;32m     25\u001b[0m     auto_offset_reset\u001b[39m=\u001b[39;49mkafka_config[\u001b[39m'\u001b[39;49m\u001b[39mauto_offset_reset\u001b[39;49m\u001b[39m'\u001b[39;49m],\n\u001b[0;32m     26\u001b[0m     enable_auto_commit\u001b[39m=\u001b[39;49mkafka_config[\u001b[39m'\u001b[39;49m\u001b[39menable_auto_commit\u001b[39;49m\u001b[39m'\u001b[39;49m],\n\u001b[0;32m     27\u001b[0m     group_id\u001b[39m=\u001b[39;49mkafka_config[\u001b[39m'\u001b[39;49m\u001b[39mgroup_id\u001b[39;49m\u001b[39m'\u001b[39;49m],\n\u001b[0;32m     28\u001b[0m     value_deserializer\u001b[39m=\u001b[39;49m\u001b[39mlambda\u001b[39;49;00m x: loads(x\u001b[39m.\u001b[39;49mdecode(\u001b[39m'\u001b[39;49m\u001b[39mutf-8\u001b[39;49m\u001b[39m'\u001b[39;49m))\n\u001b[0;32m     29\u001b[0m )\n\u001b[0;32m     31\u001b[0m connectString \u001b[39m=\u001b[39m \u001b[39m'\u001b[39m\u001b[39mmongodb://10.8.0.3:27021/?directConnection=true\u001b[39m\u001b[39m'\u001b[39m\n\u001b[0;32m     34\u001b[0m \u001b[39mtry\u001b[39;00m:\n",
      "File \u001b[1;32mc:\\Users\\Louki\\AppData\\Local\\Programs\\Python\\Python310\\lib\\site-packages\\kafka\\consumer\\group.py:356\u001b[0m, in \u001b[0;36mKafkaConsumer.__init__\u001b[1;34m(self, *topics, **configs)\u001b[0m\n\u001b[0;32m    352\u001b[0m         \u001b[39mself\u001b[39m\u001b[39m.\u001b[39mconfig[\u001b[39m'\u001b[39m\u001b[39mapi_version\u001b[39m\u001b[39m'\u001b[39m] \u001b[39m=\u001b[39m \u001b[39mtuple\u001b[39m(\u001b[39mmap\u001b[39m(\u001b[39mint\u001b[39m, str_version\u001b[39m.\u001b[39msplit(\u001b[39m'\u001b[39m\u001b[39m.\u001b[39m\u001b[39m'\u001b[39m)))\n\u001b[0;32m    353\u001b[0m     log\u001b[39m.\u001b[39mwarning(\u001b[39m'\u001b[39m\u001b[39muse api_version=\u001b[39m\u001b[39m%s\u001b[39;00m\u001b[39m [tuple] -- \u001b[39m\u001b[39m\"\u001b[39m\u001b[39m%s\u001b[39;00m\u001b[39m\"\u001b[39m\u001b[39m as str is deprecated\u001b[39m\u001b[39m'\u001b[39m,\n\u001b[0;32m    354\u001b[0m                 \u001b[39mstr\u001b[39m(\u001b[39mself\u001b[39m\u001b[39m.\u001b[39mconfig[\u001b[39m'\u001b[39m\u001b[39mapi_version\u001b[39m\u001b[39m'\u001b[39m]), str_version)\n\u001b[1;32m--> 356\u001b[0m \u001b[39mself\u001b[39m\u001b[39m.\u001b[39m_client \u001b[39m=\u001b[39m KafkaClient(metrics\u001b[39m=\u001b[39m\u001b[39mself\u001b[39m\u001b[39m.\u001b[39m_metrics, \u001b[39m*\u001b[39m\u001b[39m*\u001b[39m\u001b[39mself\u001b[39m\u001b[39m.\u001b[39mconfig)\n\u001b[0;32m    358\u001b[0m \u001b[39m# Get auto-discovered version from client if necessary\u001b[39;00m\n\u001b[0;32m    359\u001b[0m \u001b[39mif\u001b[39;00m \u001b[39mself\u001b[39m\u001b[39m.\u001b[39mconfig[\u001b[39m'\u001b[39m\u001b[39mapi_version\u001b[39m\u001b[39m'\u001b[39m] \u001b[39mis\u001b[39;00m \u001b[39mNone\u001b[39;00m:\n",
      "File \u001b[1;32mc:\\Users\\Louki\\AppData\\Local\\Programs\\Python\\Python310\\lib\\site-packages\\kafka\\client_async.py:244\u001b[0m, in \u001b[0;36mKafkaClient.__init__\u001b[1;34m(self, **configs)\u001b[0m\n\u001b[0;32m    242\u001b[0m \u001b[39mif\u001b[39;00m \u001b[39mself\u001b[39m\u001b[39m.\u001b[39mconfig[\u001b[39m'\u001b[39m\u001b[39mapi_version\u001b[39m\u001b[39m'\u001b[39m] \u001b[39mis\u001b[39;00m \u001b[39mNone\u001b[39;00m:\n\u001b[0;32m    243\u001b[0m     check_timeout \u001b[39m=\u001b[39m \u001b[39mself\u001b[39m\u001b[39m.\u001b[39mconfig[\u001b[39m'\u001b[39m\u001b[39mapi_version_auto_timeout_ms\u001b[39m\u001b[39m'\u001b[39m] \u001b[39m/\u001b[39m \u001b[39m1000\u001b[39m\n\u001b[1;32m--> 244\u001b[0m     \u001b[39mself\u001b[39m\u001b[39m.\u001b[39mconfig[\u001b[39m'\u001b[39m\u001b[39mapi_version\u001b[39m\u001b[39m'\u001b[39m] \u001b[39m=\u001b[39m \u001b[39mself\u001b[39;49m\u001b[39m.\u001b[39;49mcheck_version(timeout\u001b[39m=\u001b[39;49mcheck_timeout)\n",
      "File \u001b[1;32mc:\\Users\\Louki\\AppData\\Local\\Programs\\Python\\Python310\\lib\\site-packages\\kafka\\client_async.py:927\u001b[0m, in \u001b[0;36mKafkaClient.check_version\u001b[1;34m(self, node_id, timeout, strict)\u001b[0m\n\u001b[0;32m    924\u001b[0m \u001b[39m# Timeout\u001b[39;00m\n\u001b[0;32m    925\u001b[0m \u001b[39melse\u001b[39;00m:\n\u001b[0;32m    926\u001b[0m     \u001b[39mself\u001b[39m\u001b[39m.\u001b[39m_lock\u001b[39m.\u001b[39mrelease()\n\u001b[1;32m--> 927\u001b[0m     \u001b[39mraise\u001b[39;00m Errors\u001b[39m.\u001b[39mNoBrokersAvailable()\n",
      "\u001b[1;31mNoBrokersAvailable\u001b[0m: NoBrokersAvailable"
     ]
    }
   ],
   "source": [
    "from configparser import ConfigParser\n",
    "from pymongo import MongoClient\n",
    "from kafka import KafkaConsumer\n",
    "from json import loads\n",
    "\n",
    "\n",
    "def read_config():\n",
    "    data = {}\n",
    "    config = ConfigParser()\n",
    "    config.read('../kafka_config.ini')\n",
    "    data['topic_name'] = config.get('kafka', 'topic_name')\n",
    "    data['bootstrap_servers'] = config.get('kafka', 'bootstrap_servers')\n",
    "    data['group_id'] = config.get('kafka', 'group_id')\n",
    "    data['auto_offset_reset'] = config.get('kafka', 'auto_offset_reset')\n",
    "    data['enable_auto_commit'] = config.get('kafka', 'enable_auto_commit')\n",
    "\n",
    "    return data\n",
    "\n",
    "\n",
    "kafka_config = read_config()\n",
    "# generating the Kafka Consumer\n",
    "my_consumer = KafkaConsumer(\n",
    "   kafka_config['topic_name'],\n",
    "    bootstrap_servers=kafka_config['bootstrap_servers'],\n",
    "    auto_offset_reset=kafka_config['auto_offset_reset'],\n",
    "    enable_auto_commit=kafka_config['enable_auto_commit'],\n",
    "    group_id=kafka_config['group_id'],\n",
    "    value_deserializer=lambda x: loads(x.decode('utf-8'))\n",
    ")\n",
    "\n",
    "connectString = 'mongodb://10.8.0.3:27021/?directConnection=true'\n",
    "\n",
    "\n",
    "try:\n",
    "    my_client = MongoClient(connectString)\n",
    "    my_collection = my_client.test.test\n",
    "    print(\"Connected successfully!\")\n",
    "except:\n",
    "    print(\"Could not connect to MongoDB\")  \n",
    "\n",
    "\n",
    "for message in my_consumer:\n",
    "    message = message.value\n",
    "    try:\n",
    "        my_collection.insert_one(message)\n",
    "        print(\"Data inserted successfull!\")\n",
    "    except:\n",
    "        print(\"Could not insert into database!\")"
   ]
  }
 ],
 "metadata": {
  "kernelspec": {
   "display_name": "Python 3",
   "language": "python",
   "name": "python3"
  },
  "language_info": {
   "codemirror_mode": {
    "name": "ipython",
    "version": 3
   },
   "file_extension": ".py",
   "mimetype": "text/x-python",
   "name": "python",
   "nbconvert_exporter": "python",
   "pygments_lexer": "ipython3",
   "version": "3.10.10"
  },
  "orig_nbformat": 4
 },
 "nbformat": 4,
 "nbformat_minor": 2
}
