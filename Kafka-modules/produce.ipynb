{
 "cells": [
  {
   "cell_type": "code",
   "execution_count": 1,
   "metadata": {},
   "outputs": [
    {
     "name": "stdout",
     "output_type": "stream",
     "text": [
      "Connected successfully!\n",
      "Data inserted successfull!\n",
      "Data inserted successfull!\n",
      "Data inserted successfull!\n",
      "Data inserted successfull!\n",
      "Data inserted successfull!\n",
      "Data inserted successfull!\n",
      "Data inserted successfull!\n",
      "Data inserted successfull!\n",
      "Data inserted successfull!\n",
      "Data inserted successfull!\n",
      "Data inserted successfull!\n",
      "Data inserted successfull!\n",
      "Data inserted successfull!\n",
      "Data inserted successfull!\n",
      "Data inserted successfull!\n",
      "Data inserted successfull!\n",
      "Data inserted successfull!\n",
      "Data inserted successfull!\n",
      "Data inserted successfull!\n",
      "Data inserted successfull!\n"
     ]
    }
   ],
   "source": [
    "from configparser import ConfigParser\n",
    "from pymongo import MongoClient\n",
    "from kafka import KafkaConsumer\n",
    "from json import loads\n",
    "\n",
    "\n",
    "def read_config():\n",
    "    data = {}\n",
    "    config = ConfigParser()\n",
    "    config.read('../kafka_config.ini')\n",
    "    data['topic_name'] = config.get('kafka', 'topic_name')\n",
    "    data['bootstrap_servers'] = config.get('kafka', 'bootstrap_servers')\n",
    "    data['group_id'] = config.get('kafka', 'group_id')\n",
    "    data['auto_offset_reset'] = config.get('kafka', 'auto_offset_reset')\n",
    "    data['enable_auto_commit'] = config.get('kafka', 'enable_auto_commit')\n",
    "\n",
    "    return data\n",
    "\n",
    "\n",
    "kafka_config = read_config()\n",
    "# generating the Kafka Consumer\n",
    "my_consumer = KafkaConsumer(\n",
    "   kafka_config['topic_name'],\n",
    "    bootstrap_servers=kafka_config['bootstrap_servers'],\n",
    "    auto_offset_reset=kafka_config['auto_offset_reset'],\n",
    "    enable_auto_commit=kafka_config['enable_auto_commit'],\n",
    "    group_id=kafka_config['group_id'],\n",
    "    value_deserializer=lambda x: loads(x.decode('utf-8'))\n",
    ")\n",
    "\n",
    "connectString = 'mongodb://10.8.0.3:27021/?directConnection=true'\n",
    "\n",
    "\n",
    "try:\n",
    "    my_client = MongoClient(connectString)\n",
    "    my_collection = my_client.test.test\n",
    "    print(\"Connected successfully!\")\n",
    "except:\n",
    "    print(\"Could not connect to MongoDB\")  \n",
    "\n",
    "\n",
    "for message in my_consumer:\n",
    "    message = message.value\n",
    "    try:\n",
    "        my_collection.insert_one(message)\n",
    "        print(\"Data inserted successfull!\")\n",
    "    except:\n",
    "        print(\"Could not insert into database!\")"
   ]
  }
 ],
 "metadata": {
  "kernelspec": {
   "display_name": "Python 3",
   "language": "python",
   "name": "python3"
  },
  "language_info": {
   "codemirror_mode": {
    "name": "ipython",
    "version": 3
   },
   "file_extension": ".py",
   "mimetype": "text/x-python",
   "name": "python",
   "nbconvert_exporter": "python",
   "pygments_lexer": "ipython3",
   "version": "3.10.10"
  },
  "orig_nbformat": 4
 },
 "nbformat": 4,
 "nbformat_minor": 2
}
