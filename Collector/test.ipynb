{
 "cells": [
  {
   "cell_type": "code",
   "execution_count": null,
   "metadata": {},
   "outputs": [],
   "source": [
    "import win32evtlog\n",
    "import sys\n",
    "from xml.etree import ElementTree as ET\n",
    "import win32con\n",
    "\n",
    "\n",
    "server = 'localhost'\n",
    "logtype = 'Security'"
   ]
  },
  {
   "cell_type": "code",
   "execution_count": null,
   "metadata": {},
   "outputs": [],
   "source": [
    "evt_dict = {win32con.EVENTLOG_AUDIT_FAILURE: 'EVENTLOG_AUDIT_FAILURE',\n",
    "            win32con.EVENTLOG_AUDIT_SUCCESS: 'EVENTLOG_AUDIT_SUCCESS',\n",
    "            win32con.EVENTLOG_INFORMATION_TYPE: 'EVENTLOG_INFORMATION_TYPE',\n",
    "            win32con.EVENTLOG_WARNING_TYPE: 'EVENTLOG_WARNING_TYPE',\n",
    "            win32con.EVENTLOG_ERROR_TYPE: 'EVENTLOG_ERROR_TYPE'}\n",
    "\n",
    "\n",
    "def parse_XML_log(event):\n",
    "    tree = ET.ElementTree(ET.fromstring(event))\n",
    "    root = tree.getroot()\n",
    "    ns = \"{http://schemas.microsoft.com/win/2004/08/events/event}\"\n",
    "    data = {}\n",
    "    for eventID in root.findall(\".//\"):\n",
    "        if eventID.tag == f\"{ns}System\":\n",
    "            for e_id in eventID.iter():\n",
    "                if e_id.tag == f\"{ns}System\":\n",
    "                    pass\n",
    "                elif e_id.tag == f\"{ns}Provider\":\n",
    "                    data[\"Provider\"] = e_id.attrib.get('Name')\n",
    "                elif e_id.tag == f\"{ns}TimeCreated\":\n",
    "                    data[\"TimeCreated\"] = e_id.attrib.get('SystemTime')\n",
    "                elif e_id.tag == f\"{ns}Correlation\":\n",
    "                    data[\"ActivityID\"] = e_id.attrib.get('ActivityID')\n",
    "                elif e_id.tag == f\"{ns}Execution\":\n",
    "                    data[\"ProcessID\"] = e_id.attrib.get('ProcessID')\n",
    "                    data[\"ThreadID\"] = e_id.attrib.get('ThreadID')\n",
    "                elif e_id.tag == f\"{ns}EventType\":\n",
    "                    if not e_id.text in evt_dict.keys():\n",
    "                        data['EventType'] = \"unknown\"\n",
    "                    else:\n",
    "                        data['EventType'] = str(evt_dict[e_id.text])\n",
    "                else:\n",
    "                    att = e_id.tag.replace(f\"{ns}\", \"\")\n",
    "                    data[att] = e_id.text\n",
    "\n",
    "        if eventID.tag == f\"{ns}EventData\":\n",
    "            for attr in eventID.iter():\n",
    "                if attr.tag == f'{ns}Data':\n",
    "                    if attr.get('Name') is None:\n",
    "                        data[\"Data\"] = attr.text\n",
    "                    else:\n",
    "                        data[attr.get('Name')] = attr.text\n",
    "                elif attr.tag == f'{ns}Binary':\n",
    "                    data[\"Binary\"] = attr.text\n",
    "\n",
    "    return data"
   ]
  },
  {
   "cell_type": "code",
   "execution_count": null,
   "metadata": {},
   "outputs": [],
   "source": [
    "event_context = { \"info\": \"this object is always passed to your callback\" }\n",
    "# Event log source to listen to\n",
    "event_source = 'application'\n",
    "\n",
    "def new_logs_event_handler(reason, context, evt):\n",
    "    \"\"\"\n",
    "    Called when new events are logged.\n",
    "\n",
    "    reason - reason the event was logged?\n",
    "    context - context the event handler was registered with\n",
    "    evt - event handle\n",
    "    \"\"\"\n",
    "    # Just print some information about the event\n",
    "    # print ('reason', reason, 'context', context, 'event handle', evt)\n",
    "\n",
    "    event = win32evtlog.EvtRender(evt, win32evtlog.EvtRenderEventXml)\n",
    "    result = \" \".join(l.strip() for l in event.splitlines())\n",
    "    print(result)\n",
    "    with open('xml_logs.txt', 'a') as file:\n",
    "        file.write(result)\n",
    "        file.write('\\n')\n",
    "    # parse_XML_log(event=event)\n",
    "    print(' - ')\n",
    "\n",
    "    # Make sure all printed text is actually printed to the console now\n",
    "    sys.stdout.flush()\n",
    "    return 0"
   ]
  },
  {
   "cell_type": "code",
   "execution_count": null,
   "metadata": {},
   "outputs": [],
   "source": [
    "\n",
    "\n",
    "# Subscribe to future events\n",
    "subscription1 = win32evtlog.EvtSubscribe(event_source, win32evtlog.EvtSubscribeToFutureEvents, None, Callback=new_logs_event_handler, Context=event_context, Query=None)\n",
    "subscription2 = win32evtlog.EvtSubscribe('system', win32evtlog.EvtSubscribeToFutureEvents, None, Callback=new_logs_event_handler, Context=event_context, Query=None)\n",
    "subscription3 = win32evtlog.EvtSubscribe('Security', win32evtlog.EvtSubscribeToFutureEvents, None, Callback=new_logs_event_handler, Context=event_context, Query=None)\n"
   ]
  },
  {
   "cell_type": "code",
   "execution_count": null,
   "metadata": {},
   "outputs": [],
   "source": [
    "data = []\n",
    "with open(\"xml_logs.txt\", \"r+\") as file1:\n",
    "    lines = file1.readlines()   \n",
    "    for line in lines:              \n",
    "        data.append(parse_XML_log(line))   \n",
    "        \n",
    "data\n"
   ]
  },
  {
   "cell_type": "code",
   "execution_count": null,
   "metadata": {},
   "outputs": [],
   "source": [
    "for list in data:\n",
    "    print(list)"
   ]
  },
  {
   "cell_type": "code",
   "execution_count": null,
   "metadata": {},
   "outputs": [],
   "source": [
    "import pymongo\n",
    "\n",
    "# Connect to MongoDB\n",
    "client = pymongo.MongoClient('mongodb://localhost:27017/')\n",
    "db = client['Windows_Event_Logs']\n",
    "collection = db['mycollection']\n",
    "\n",
    "\n",
    "# Insert the list into the collection\n",
    "\n",
    "collection.insert_many(data)\n",
    "\n",
    "# Print the inserted documents\n",
    "for doc in collection.find():\n",
    "    print(doc)"
   ]
  },
  {
   "cell_type": "code",
   "execution_count": null,
   "metadata": {},
   "outputs": [],
   "source": [
    "import pyuac\n",
    "\n",
    "def main():\n",
    "    print(\"Do stuff here that requires being run as an admin.\")\n",
    "    # The window will disappear as soon as the program exits!\n",
    "    input(\"Press enter to close the window. >\")\n",
    "\n",
    "if __name__ == \"__main__\":\n",
    "    if not pyuac.isUserAdmin():\n",
    "        print(\"Re-launching as admin!\")\n",
    "       \n",
    "        pyuac.runAsAdmin()\n",
    "        input(\"Press enter to close the window. >\")\n",
    "    else:        \n",
    "        main()  # Already an admin here."
   ]
  },
  {
   "cell_type": "code",
   "execution_count": null,
   "metadata": {},
   "outputs": [],
   "source": [
    "import json\n",
    "import xmltodict\n",
    "\n",
    "def xml_to_json(xml_string):\n",
    "    xml_dict = xmltodict.parse(xml_string)\n",
    "    print(xml_dict)\n",
    "    json_data = json.dumps(xml_dict)\n",
    "    return json_data"
   ]
  },
  {
   "cell_type": "code",
   "execution_count": null,
   "metadata": {},
   "outputs": [],
   "source": [
    "js = xml_to_json(lines[0])\n",
    "js"
   ]
  },
  {
   "cell_type": "code",
   "execution_count": null,
   "metadata": {},
   "outputs": [],
   "source": [
    "with open('test.json', 'w') as f:\n",
    "    f.write(js)"
   ]
  }
 ],
 "metadata": {
  "kernelspec": {
   "display_name": "Python 3",
   "language": "python",
   "name": "python3"
  },
  "language_info": {
   "codemirror_mode": {
    "name": "ipython",
    "version": 3
   },
   "file_extension": ".py",
   "mimetype": "text/x-python",
   "name": "python",
   "nbconvert_exporter": "python",
   "pygments_lexer": "ipython3",
   "version": "3.8.10"
  },
  "orig_nbformat": 4
 },
 "nbformat": 4,
 "nbformat_minor": 2
}
