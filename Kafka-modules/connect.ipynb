{
 "cells": [
  {
   "cell_type": "code",
   "execution_count": 1,
   "metadata": {},
   "outputs": [
    {
     "name": "stdout",
     "output_type": "stream",
     "text": [
      "0 documents inserted in the last 10 seconds\n",
      "0 documents inserted in the last 10 seconds\n",
      "0 documents inserted in the last 10 seconds\n",
      "0 documents inserted in the last 10 seconds\n",
      "0 documents inserted in the last 10 seconds\n",
      "0 documents inserted in the last 10 seconds\n",
      "0 documents inserted in the last 10 seconds\n",
      "0 documents inserted in the last 10 seconds\n",
      "0 documents inserted in the last 10 seconds\n",
      "0 documents inserted in the last 10 seconds\n",
      "0 documents inserted in the last 10 seconds\n",
      "1 documents inserted in the last 10 seconds\n",
      "3 documents inserted in the last 10 seconds\n",
      "0 documents inserted in the last 10 seconds\n",
      "0 documents inserted in the last 10 seconds\n",
      "0 documents inserted in the last 10 seconds\n",
      "1 documents inserted in the last 10 seconds\n",
      "0 documents inserted in the last 10 seconds\n",
      "0 documents inserted in the last 10 seconds\n",
      "0 documents inserted in the last 10 seconds\n",
      "0 documents inserted in the last 10 seconds\n",
      "0 documents inserted in the last 10 seconds\n",
      "0 documents inserted in the last 10 seconds\n",
      "0 documents inserted in the last 10 seconds\n",
      "0 documents inserted in the last 10 seconds\n",
      "0 documents inserted in the last 10 seconds\n",
      "0 documents inserted in the last 10 seconds\n",
      "0 documents inserted in the last 10 seconds\n",
      "0 documents inserted in the last 10 seconds\n",
      "0 documents inserted in the last 10 seconds\n",
      "0 documents inserted in the last 10 seconds\n",
      "0 documents inserted in the last 10 seconds\n",
      "0 documents inserted in the last 10 seconds\n",
      "0 documents inserted in the last 10 seconds\n",
      "0 documents inserted in the last 10 seconds\n",
      "0 documents inserted in the last 10 seconds\n",
      "0 documents inserted in the last 10 seconds\n",
      "8 documents inserted in the last 10 seconds\n"
     ]
    },
    {
     "ename": "KeyboardInterrupt",
     "evalue": "",
     "output_type": "error",
     "traceback": [
      "\u001b[1;31m---------------------------------------------------------------------------\u001b[0m",
      "\u001b[1;31mKeyboardInterrupt\u001b[0m                         Traceback (most recent call last)",
      "Cell \u001b[1;32mIn[1], line 13\u001b[0m\n\u001b[0;32m     11\u001b[0m \u001b[39m# Loop every 10 seconds\u001b[39;00m\n\u001b[0;32m     12\u001b[0m \u001b[39mwhile\u001b[39;00m \u001b[39mTrue\u001b[39;00m:\n\u001b[1;32m---> 13\u001b[0m     time\u001b[39m.\u001b[39;49msleep(\u001b[39m10\u001b[39;49m)\n\u001b[0;32m     14\u001b[0m     \u001b[39m# Get the current count of documents\u001b[39;00m\n\u001b[0;32m     15\u001b[0m     current_count \u001b[39m=\u001b[39m coll\u001b[39m.\u001b[39mcount_documents({})\n",
      "\u001b[1;31mKeyboardInterrupt\u001b[0m: "
     ]
    }
   ],
   "source": [
    "import pymongo\n",
    "import time\n",
    "\n",
    "client = pymongo.MongoClient(\"mongodb://10.8.0.3:27021/?directConnection=true\")\n",
    "db = client[\"test\"]\n",
    "coll = db[\"test\"]\n",
    "\n",
    "# Get the initial count of documents\n",
    "initial_count = coll.count_documents({})\n",
    "\n",
    "# Loop every 10 seconds\n",
    "while True:\n",
    "    time.sleep(10)\n",
    "    # Get the current count of documents\n",
    "    current_count = coll.count_documents({})\n",
    "    # Calculate the difference between the current and initial counts\n",
    "    difference = current_count - initial_count\n",
    "    # Print the number of documents inserted in the last 10 seconds\n",
    "    print(f\"{difference} documents inserted in the last 10 seconds\")\n",
    "    # Update the initial count for the next iteration\n",
    "    initial_count = current_count"
   ]
  },
  {
   "cell_type": "code",
   "execution_count": 24,
   "metadata": {},
   "outputs": [
    {
     "data": {
      "text/plain": [
       "'08-03-2023 01:51:36'"
      ]
     },
     "execution_count": 24,
     "metadata": {},
     "output_type": "execute_result"
    }
   ],
   "source": [
    "from dateutil import parser\n",
    "\n",
    "dt_str=\"2023-08-03T01:51:36.1876041+07:00\"\n",
    "date = parser.isoparse(dt_str)\n",
    "date.strftime('%m-%d-%Y %H:%M:%S')"
   ]
  },
  {
   "cell_type": "code",
   "execution_count": 25,
   "metadata": {},
   "outputs": [
    {
     "data": {
      "text/plain": [
       "datetime.datetime(2023, 8, 3, 1, 51, 36, 187604, tzinfo=tzoffset(None, 25200))"
      ]
     },
     "execution_count": 25,
     "metadata": {},
     "output_type": "execute_result"
    }
   ],
   "source": [
    "d = parser.parse(dt_str)    \n",
    "d\n"
   ]
  },
  {
   "cell_type": "code",
   "execution_count": 26,
   "metadata": {},
   "outputs": [
    {
     "data": {
      "text/plain": [
       "datetime.datetime(2023, 8, 3, 1, 51, 36, 187604, tzinfo=tzoffset(None, 25200))"
      ]
     },
     "execution_count": 26,
     "metadata": {},
     "output_type": "execute_result"
    }
   ],
   "source": [
    "date"
   ]
  }
 ],
 "metadata": {
  "kernelspec": {
   "display_name": "Python 3",
   "language": "python",
   "name": "python3"
  },
  "language_info": {
   "codemirror_mode": {
    "name": "ipython",
    "version": 3
   },
   "file_extension": ".py",
   "mimetype": "text/x-python",
   "name": "python",
   "nbconvert_exporter": "python",
   "pygments_lexer": "ipython3",
   "version": "3.10.10"
  },
  "orig_nbformat": 4
 },
 "nbformat": 4,
 "nbformat_minor": 2
}
